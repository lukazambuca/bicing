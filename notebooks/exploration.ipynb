{
 "cells": [
  {
   "cell_type": "code",
   "execution_count": 1,
   "metadata": {},
   "outputs": [],
   "source": [
    "import great_expectations as ge\n",
    "import json\n",
    "import pandas as pd\n",
    "import json\n",
    "import pandas as pd\n",
    "import os\n",
    "import pyarrow\n",
    "import requests\n",
    "import great_expectations as ge\n",
    "import db_dtypes\n",
    "\n",
    "from google.cloud import bigquery\n"
   ]
  },
  {
   "cell_type": "code",
   "execution_count": 2,
   "metadata": {},
   "outputs": [],
   "source": [
    "import great_expectations as ge\n",
    "import json\n",
    "import pandas as pd\n",
    "import json\n",
    "import pandas as pd\n",
    "import os\n",
    "import pyarrow\n",
    "import requests\n",
    "import great_expectations as ge\n",
    "import db_dtypes\n",
    "\n",
    "from google.cloud import bigquery\n",
    "\n",
    "\n",
    "os.environ['GOOGLE_APPLICATION_CREDENTIALS'] = 'airflow-docker/bicing_Gcloud_service.json'\n",
    "\n",
    "client = bigquery.Client()\n",
    "\n",
    "table_id = \"bicingml.bicing.descriptors\"\n",
    "\n",
    "sql = \"\"\"\n",
    " SELECT *\n",
    "    FROM bicingml.bicing.descriptors\n",
    "\"\"\"\n",
    "\n",
    "df = client.query(sql).to_dataframe()\n",
    "df.head()\n"
   ]
  },
  {
   "cell_type": "code",
   "execution_count": 3,
   "metadata": {},
   "outputs": [],
   "source": [
    "client = bigquery.Client()"
   ]
  },
  {
   "cell_type": "code",
   "execution_count": 4,
   "metadata": {},
   "outputs": [],
   "source": [
    "table_id = \"bicingml.bicing.descriptors\"\n"
   ]
  },
  {
   "cell_type": "code",
   "execution_count": 5,
   "metadata": {},
   "outputs": [],
   "source": [
    "query_job = client.query(\"\"\"\n",
    "    SELECT *\n",
    "    FROM bicingml.bicing.descriptors\"\"\")\n",
    "results = query_job.result()"
   ]
  },
  {
   "cell_type": "code",
   "execution_count": 6,
   "metadata": {},
   "outputs": [
    {
     "data": {
      "text/html": [
       "<div>\n",
       "<style scoped>\n",
       "    .dataframe tbody tr th:only-of-type {\n",
       "        vertical-align: middle;\n",
       "    }\n",
       "\n",
       "    .dataframe tbody tr th {\n",
       "        vertical-align: top;\n",
       "    }\n",
       "\n",
       "    .dataframe thead th {\n",
       "        text-align: right;\n",
       "    }\n",
       "</style>\n",
       "<table border=\"1\" class=\"dataframe\">\n",
       "  <thead>\n",
       "    <tr style=\"text-align: right;\">\n",
       "      <th></th>\n",
       "      <th>name</th>\n",
       "      <th>latitude</th>\n",
       "      <th>longitude</th>\n",
       "      <th>timestamp</th>\n",
       "      <th>uid</th>\n",
       "      <th>online</th>\n",
       "      <th>normal_bikes</th>\n",
       "      <th>has_ebikes</th>\n",
       "      <th>ebikes</th>\n",
       "      <th>id</th>\n",
       "      <th>empty_slots</th>\n",
       "      <th>free_bikes</th>\n",
       "    </tr>\n",
       "  </thead>\n",
       "  <tbody>\n",
       "    <tr>\n",
       "      <th>0</th>\n",
       "      <td>C/ CLOT, 1</td>\n",
       "      <td>41.406386</td>\n",
       "      <td>2.187440</td>\n",
       "      <td>2023-12-12 21:15:49.268</td>\n",
       "      <td>43</td>\n",
       "      <td>True</td>\n",
       "      <td>3</td>\n",
       "      <td>True</td>\n",
       "      <td>3</td>\n",
       "      <td>58fbf6dface3f876f372cf38e1f4297d</td>\n",
       "      <td>19</td>\n",
       "      <td>6</td>\n",
       "    </tr>\n",
       "    <tr>\n",
       "      <th>1</th>\n",
       "      <td>C/ CLOT, 1</td>\n",
       "      <td>41.406386</td>\n",
       "      <td>2.187440</td>\n",
       "      <td>2023-12-13 15:03:33.911</td>\n",
       "      <td>43</td>\n",
       "      <td>True</td>\n",
       "      <td>2</td>\n",
       "      <td>True</td>\n",
       "      <td>5</td>\n",
       "      <td>58fbf6dface3f876f372cf38e1f4297d</td>\n",
       "      <td>19</td>\n",
       "      <td>7</td>\n",
       "    </tr>\n",
       "    <tr>\n",
       "      <th>2</th>\n",
       "      <td>C/ WATT, 2</td>\n",
       "      <td>41.375443</td>\n",
       "      <td>2.139841</td>\n",
       "      <td>2023-12-12 21:15:48.671</td>\n",
       "      <td>441</td>\n",
       "      <td>True</td>\n",
       "      <td>0</td>\n",
       "      <td>True</td>\n",
       "      <td>14</td>\n",
       "      <td>431ed6d01c118a6b0295a8f949fe526a</td>\n",
       "      <td>4</td>\n",
       "      <td>14</td>\n",
       "    </tr>\n",
       "    <tr>\n",
       "      <th>3</th>\n",
       "      <td>C/ WATT, 2</td>\n",
       "      <td>41.375443</td>\n",
       "      <td>2.139841</td>\n",
       "      <td>2023-12-13 15:03:32.926</td>\n",
       "      <td>441</td>\n",
       "      <td>True</td>\n",
       "      <td>6</td>\n",
       "      <td>True</td>\n",
       "      <td>1</td>\n",
       "      <td>431ed6d01c118a6b0295a8f949fe526a</td>\n",
       "      <td>10</td>\n",
       "      <td>7</td>\n",
       "    </tr>\n",
       "    <tr>\n",
       "      <th>4</th>\n",
       "      <td>PL. TETUAN</td>\n",
       "      <td>41.394345</td>\n",
       "      <td>2.175171</td>\n",
       "      <td>2023-12-12 21:15:48.603</td>\n",
       "      <td>492</td>\n",
       "      <td>True</td>\n",
       "      <td>0</td>\n",
       "      <td>True</td>\n",
       "      <td>1</td>\n",
       "      <td>084523f98844ad705e48d34b3d667865</td>\n",
       "      <td>22</td>\n",
       "      <td>1</td>\n",
       "    </tr>\n",
       "  </tbody>\n",
       "</table>\n",
       "</div>"
      ],
      "text/plain": [
       "         name   latitude  longitude               timestamp  uid  online  \\\n",
       "0  C/ CLOT, 1  41.406386   2.187440 2023-12-12 21:15:49.268   43    True   \n",
       "1  C/ CLOT, 1  41.406386   2.187440 2023-12-13 15:03:33.911   43    True   \n",
       "2  C/ WATT, 2  41.375443   2.139841 2023-12-12 21:15:48.671  441    True   \n",
       "3  C/ WATT, 2  41.375443   2.139841 2023-12-13 15:03:32.926  441    True   \n",
       "4  PL. TETUAN  41.394345   2.175171 2023-12-12 21:15:48.603  492    True   \n",
       "\n",
       "   normal_bikes  has_ebikes  ebikes                                id  \\\n",
       "0             3        True       3  58fbf6dface3f876f372cf38e1f4297d   \n",
       "1             2        True       5  58fbf6dface3f876f372cf38e1f4297d   \n",
       "2             0        True      14  431ed6d01c118a6b0295a8f949fe526a   \n",
       "3             6        True       1  431ed6d01c118a6b0295a8f949fe526a   \n",
       "4             0        True       1  084523f98844ad705e48d34b3d667865   \n",
       "\n",
       "   empty_slots  free_bikes  \n",
       "0           19           6  \n",
       "1           19           7  \n",
       "2            4          14  \n",
       "3           10           7  \n",
       "4           22           1  "
      ]
     },
     "execution_count": 6,
     "metadata": {},
     "output_type": "execute_result"
    }
   ],
   "source": [
    "sql = \"\"\"\n",
    " SELECT *\n",
    "    FROM bicingml.bicing.descriptors\n",
    "\"\"\"\n",
    "\n",
    "df = client.query(sql).to_dataframe()\n",
    "df.head()\n"
   ]
  },
  {
   "cell_type": "code",
   "execution_count": 7,
   "metadata": {},
   "outputs": [
    {
     "data": {
      "text/plain": [
       "<google.cloud.bigquery.table.RowIterator at 0x289cc0490>"
      ]
     },
     "execution_count": 7,
     "metadata": {},
     "output_type": "execute_result"
    }
   ],
   "source": []
  },
  {
   "cell_type": "code",
   "execution_count": null,
   "metadata": {},
   "outputs": [],
   "source": []
  },
  {
   "cell_type": "code",
   "execution_count": null,
   "metadata": {},
   "outputs": [],
   "source": []
  }
 ],
 "metadata": {
  "kernelspec": {
   "display_name": "bicing-env",
   "language": "python",
   "name": "python3"
  },
  "language_info": {
   "codemirror_mode": {
    "name": "ipython",
    "version": 3
   },
   "file_extension": ".py",
   "mimetype": "text/x-python",
   "name": "python",
   "nbconvert_exporter": "python",
   "pygments_lexer": "ipython3",
   "version": "3.11.5"
  }
 },
 "nbformat": 4,
 "nbformat_minor": 2
}
